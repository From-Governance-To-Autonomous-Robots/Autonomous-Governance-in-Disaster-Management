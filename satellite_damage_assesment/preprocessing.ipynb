{
 "cells": [
  {
   "cell_type": "code",
   "execution_count": 1,
   "id": "bb4a037a",
   "metadata": {},
   "outputs": [
    {
     "name": "stderr",
     "output_type": "stream",
     "text": [
      "E:\\Apps\\Anaconda\\envs\\pytorch_env\\lib\\site-packages\\tqdm\\auto.py:21: TqdmWarning: IProgress not found. Please update jupyter and ipywidgets. See https://ipywidgets.readthedocs.io/en/stable/user_install.html\n",
      "  from .autonotebook import tqdm as notebook_tqdm\n"
     ]
    }
   ],
   "source": [
    "import os \n",
    "import cv2\n",
    "from PIL import Image \n",
    "from tqdm import tqdm\n",
    "import numpy as np "
   ]
  },
  {
   "cell_type": "code",
   "execution_count": 2,
   "id": "ead6844b",
   "metadata": {},
   "outputs": [],
   "source": [
    "# Constants \n",
    "\n",
    "DATA_PATH = \"E:/ML_Datasets/Breast_Cancer_Histopathology_Dataset/\"\n",
    "RESIZE_SHAPE=(256,256)"
   ]
  },
  {
   "cell_type": "markdown",
   "id": "5b293778",
   "metadata": {},
   "source": [
    "# Idea\n",
    "\n",
    "\n",
    "Semi supervised data preparation \n",
    "\n",
    "1. Build a classifier or use ResNet without image-net weights for training a classifier \n",
    "2. Freeze the classifier weights and build a segmentation model \n",
    "\n",
    "\n",
    "The data preparation for the classifier. Select 2 classes - Stroma , Tumor\n",
    "\n",
    "For data preparation for the classifier - using the mask and image name see if the classes are seen on the image and using pixel altering keep the region coresponding to the mask as such for the image and the rest of the region pixelated. \n",
    "\n",
    "Create a dataset like for 500 each or 100 each for stroma and tumor in their directories. "
   ]
  },
  {
   "cell_type": "markdown",
   "id": "b4c07883",
   "metadata": {},
   "source": [
    "## Feature Preparation"
   ]
  },
  {
   "cell_type": "code",
   "execution_count": 19,
   "id": "c374ef26",
   "metadata": {},
   "outputs": [],
   "source": [
    "def load_data_from_directory(data_path,resize_shape):\n",
    "    images_path=os.path.join(data_path,\"Images\")\n",
    "    masks_path=os.path.join(data_path,\"Masks\")\n",
    "    file_list = os.listdir(images_path)\n",
    "    image_list=[]\n",
    "    mask_list=[]\n",
    "    for idx in range(len(file_list)):\n",
    "        image_path=os.path.join(images_path,file_list[idx])\n",
    "        mask_path=os.path.join(masks_path,file_list[idx])\n",
    "        image = cv2.imread(image_path)\n",
    "        image = cv2.cvtColor(image,cv2.COLOR_BGR2RGB)\n",
    "        image = cv2.resize(image,resize_shape,interpolation=cv2.INTER_LINEAR)\n",
    "        mask = cv2.imread(mask_path,0)\n",
    "        mask = cv2.resize(mask,resize_shape,interpolation=cv2.INTER_LINEAR)\n",
    "        image_list.append(image)\n",
    "        mask_list.append(mask)\n",
    "    return image_list,mask_list,file_list\n",
    "\n",
    "def save_class_labels_for_current_image(image,mask,file_name):\n",
    "    save_folder = 'Processed_Classifier_Dataset'\n",
    "    if not os.path.exists(save_folder):\n",
    "        os.makedirs(save_folder)\n",
    "        \n",
    "    if (mask == 1).any():\n",
    "        blank_image = np.zeros_like(image)\n",
    "        coords = np.argwhere(mask == 1)\n",
    "        for x,y in coords:\n",
    "            blank_image[x,y]=image[x,y]\n",
    "        if not os.path.exists(os.path.join(save_folder,'stroma')):\n",
    "            os.makedirs(os.path.join(save_folder,'stroma'))\n",
    "        Image.fromarray(blank_image).save(os.path.join(save_folder,'stroma',file_name))\n",
    "    if (mask == 2).any():\n",
    "        blank_image = np.zeros_like(image)\n",
    "        coords = np.argwhere(mask == 2)\n",
    "        for x,y in coords:\n",
    "            blank_image[x,y]=image[x,y]\n",
    "        if not os.path.exists(os.path.join(save_folder,'tumor')):\n",
    "            os.makedirs(os.path.join(save_folder,'tumor'))\n",
    "        Image.fromarray(blank_image).save(os.path.join(save_folder,'tumor',file_name))\n",
    "\n",
    "def apply_preprocessing(data_path,resize_shape):\n",
    "    image_list,mask_list,file_list = load_data_from_directory(data_path,resize_shape)\n",
    "    for idx, id_  in tqdm(enumerate(image_list),total=len(image_list)):\n",
    "        save_class_labels_for_current_image(image_list[idx],mask_list[idx],file_list[idx])\n",
    "\n",
    "    print('Saved Classifier Processed Dataset')"
   ]
  },
  {
   "cell_type": "code",
   "execution_count": 20,
   "id": "f60284f7",
   "metadata": {},
   "outputs": [
    {
     "name": "stderr",
     "output_type": "stream",
     "text": [
      "100%|████████████████████████████████████████████████████████████████████████████████| 151/151 [00:08<00:00, 17.07it/s]"
     ]
    },
    {
     "name": "stdout",
     "output_type": "stream",
     "text": [
      "Saved Classifier Processed Dataset\n"
     ]
    },
    {
     "name": "stderr",
     "output_type": "stream",
     "text": [
      "\n"
     ]
    }
   ],
   "source": [
    "apply_preprocessing(DATA_PATH,RESIZE_SHAPE)"
   ]
  },
  {
   "cell_type": "code",
   "execution_count": null,
   "id": "eae393cb",
   "metadata": {},
   "outputs": [],
   "source": []
  }
 ],
 "metadata": {
  "kernelspec": {
   "display_name": "pytorch_env",
   "language": "python",
   "name": "python3"
  },
  "language_info": {
   "codemirror_mode": {
    "name": "ipython",
    "version": 3
   },
   "file_extension": ".py",
   "mimetype": "text/x-python",
   "name": "python",
   "nbconvert_exporter": "python",
   "pygments_lexer": "ipython3",
   "version": "3.1.-1"
  }
 },
 "nbformat": 4,
 "nbformat_minor": 5
}

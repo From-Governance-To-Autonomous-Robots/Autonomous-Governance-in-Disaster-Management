{
 "cells": [
  {
   "cell_type": "code",
   "execution_count": 1,
   "metadata": {},
   "outputs": [],
   "source": [
    "import yaml\n",
    "import pandas as pd\n",
    "from sklearn.utils import resample\n",
    "import os \n"
   ]
  },
  {
   "cell_type": "code",
   "execution_count": 2,
   "metadata": {},
   "outputs": [],
   "source": [
    "def load_config(config_path):\n",
    "    with open(config_path, 'r') as file:\n",
    "        config = yaml.safe_load(file)\n",
    "    return config"
   ]
  },
  {
   "cell_type": "code",
   "execution_count": 3,
   "metadata": {},
   "outputs": [],
   "source": [
    "CONFIG_PATH = \"/home/julian/git-repo/juliangdz/GovernanceIRP/Autonomous-Governance-in-Disaster-Management/post_disaster_classification/configs/satellite_config.yaml\""
   ]
  },
  {
   "cell_type": "code",
   "execution_count": 4,
   "metadata": {},
   "outputs": [],
   "source": [
    "config = load_config(CONFIG_PATH)\n",
    "\n",
    "train_csv_path = os.path.join(config['original_data']['root_dir'],'multi_label_dataset','val','logs/dataset.csv')\n",
    "\n",
    "# Load the dataset\n",
    "dataset_df = pd.read_csv(train_csv_path)\n",
    "\n",
    "# Separate majority and minority classes\n",
    "no_damage_df = dataset_df[dataset_df['no_damage'] == 1]\n",
    "minor_damage_df = dataset_df[dataset_df['minor_damage'] == 1]\n",
    "major_damage_df = dataset_df[dataset_df['major_damage'] == 1]\n",
    "destroyed_df = dataset_df[dataset_df['destroyed'] == 1]\n",
    "\n",
    "# Find the number of instances in the minority classes\n",
    "minority_count = min(len(minor_damage_df), len(major_damage_df), len(destroyed_df))\n",
    "\n",
    "# Undersample the majority class\n",
    "no_damage_undersampled = resample(no_damage_df,\n",
    "                                  replace=False,  # sample without replacement\n",
    "                                  n_samples=minority_count,  # match minority count\n",
    "                                  random_state=42)  # reproducible results\n",
    "\n",
    "# Undersample the majority class\n",
    "minor_damage_undersampled = resample(minor_damage_df,\n",
    "                                  replace=False,  # sample without replacement\n",
    "                                  n_samples=minority_count,  # match minority count\n",
    "                                  random_state=42)  # reproducible results\n",
    "\n",
    "# Combine undersampled majority class with minority classes\n",
    "undersampled_df = pd.concat([no_damage_undersampled, minor_damage_undersampled, major_damage_df, destroyed_df])\n",
    "\n",
    "# Shuffle the resulting dataframe\n",
    "undersampled_df = undersampled_df.sample(frac=1, random_state=42).reset_index(drop=True)\n",
    "\n",
    "# Save the undersampled dataset\n",
    "undersampled_df.to_csv(os.path.join(config['original_data']['root_dir'],'multi_label_dataset','val','logs/sampled_dataset.csv'), index=False)\n"
   ]
  },
  {
   "cell_type": "code",
   "execution_count": 5,
   "metadata": {},
   "outputs": [
    {
     "name": "stdout",
     "output_type": "stream",
     "text": [
      "<class 'pandas.core.frame.DataFrame'>\n",
      "RangeIndex: 5012 entries, 0 to 5011\n",
      "Data columns (total 5 columns):\n",
      " #   Column        Non-Null Count  Dtype \n",
      "---  ------        --------------  ----- \n",
      " 0   image_path    5012 non-null   object\n",
      " 1   no_damage     5012 non-null   int64 \n",
      " 2   minor_damage  5012 non-null   int64 \n",
      " 3   major_damage  5012 non-null   int64 \n",
      " 4   destroyed     5012 non-null   int64 \n",
      "dtypes: int64(4), object(1)\n",
      "memory usage: 195.9+ KB\n"
     ]
    },
    {
     "data": {
      "text/plain": [
       "(None,\n",
       "                                           image_path  no_damage  minor_damage  \\\n",
       " 0  /home/julian/datasets/XBD/multi_label_dataset/...          1             0   \n",
       " 1  /home/julian/datasets/XBD/multi_label_dataset/...          1             0   \n",
       " 2  /home/julian/datasets/XBD/multi_label_dataset/...          1             0   \n",
       " 3  /home/julian/datasets/XBD/multi_label_dataset/...          1             0   \n",
       " 4  /home/julian/datasets/XBD/multi_label_dataset/...          1             0   \n",
       " \n",
       "    major_damage  destroyed  \n",
       " 0             0          1  \n",
       " 1             0          0  \n",
       " 2             1          0  \n",
       " 3             1          1  \n",
       " 4             0          1  ,\n",
       " no_damage       5012\n",
       " minor_damage    3024\n",
       " major_damage    1854\n",
       " destroyed       1747\n",
       " dtype: int64,\n",
       " no_damage       0.430695\n",
       " minor_damage    0.259861\n",
       " major_damage    0.159319\n",
       " destroyed       0.150125\n",
       " dtype: float64)"
      ]
     },
     "execution_count": 5,
     "metadata": {},
     "output_type": "execute_result"
    }
   ],
   "source": [
    "# Display basic information about the dataset\n",
    "dataset_info = undersampled_df.info()\n",
    "dataset_head = undersampled_df.head()\n",
    "\n",
    "# Count the number of patches for each class\n",
    "label_counts = undersampled_df.iloc[:, 1:].sum()\n",
    "\n",
    "# Calculate the distribution of labels\n",
    "label_distribution = label_counts / label_counts.sum()\n",
    "\n",
    "(dataset_info, dataset_head, label_counts, label_distribution)"
   ]
  },
  {
   "cell_type": "code",
   "execution_count": null,
   "metadata": {},
   "outputs": [],
   "source": []
  }
 ],
 "metadata": {
  "kernelspec": {
   "display_name": "pytorch_env",
   "language": "python",
   "name": "python3"
  },
  "language_info": {
   "codemirror_mode": {
    "name": "ipython",
    "version": 3
   },
   "file_extension": ".py",
   "mimetype": "text/x-python",
   "name": "python",
   "nbconvert_exporter": "python",
   "pygments_lexer": "ipython3",
   "version": "3.8.-1"
  }
 },
 "nbformat": 4,
 "nbformat_minor": 2
}

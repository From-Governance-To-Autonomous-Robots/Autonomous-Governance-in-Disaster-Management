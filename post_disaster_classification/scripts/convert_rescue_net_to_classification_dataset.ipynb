{
 "cells": [
  {
   "cell_type": "markdown",
   "id": "75f1a229",
   "metadata": {},
   "source": [
    "# Idea\n",
    "\n",
    "\n",
    "Semi supervised data preparation \n",
    "\n",
    "1. Build a classifier or use ResNet without image-net weights for training a classifier \n",
    "2. Freeze the classifier weights and build a segmentation model \n",
    "\n",
    "\n",
    "The data preparation for the classifier. Select 2 classes - Stroma , Tumor\n",
    "\n",
    "For data preparation for the classifier - using the mask and image name see if the classes are seen on the image and using pixel altering keep the region coresponding to the mask as such for the image and the rest of the region pixelated. \n",
    "\n",
    "Create a dataset like for 500 each or 100 each for stroma and tumor in their directories. "
   ]
  },
  {
   "cell_type": "code",
   "execution_count": 1,
   "id": "bb4a037a",
   "metadata": {},
   "outputs": [],
   "source": [
    "import os\n",
    "import cv2\n",
    "import numpy as np\n",
    "from PIL import Image\n",
    "from tqdm import tqdm"
   ]
  },
  {
   "cell_type": "markdown",
   "id": "381393b2",
   "metadata": {},
   "source": [
    "Te pixels with “Water” classes\n",
    "are labeled as 1, “Building No Damage” as 2, “Building Minor Damage” as 3, “Building Major Damage” as 4,\n",
    "“Building Total Destruction” as 5, “Vehicle” as 6, “Road-Clear” as 7, “Road-Blocked” as 8, “Tree” as 9, and “Pool”\n",
    "as 10. Rest of the pixels are considered “Background” and labeled as 0."
   ]
  },
  {
   "cell_type": "code",
   "execution_count": 2,
   "id": "bf2bea4c",
   "metadata": {},
   "outputs": [],
   "source": [
    "def process_and_save_images(data_path, resize_shape, save_folder):\n",
    "    images_path = os.path.join(data_path, \"train-org-img\")\n",
    "    masks_path = os.path.join(data_path, \"train-label-img\")\n",
    "    \n",
    "    file_list = os.listdir(images_path)\n",
    "\n",
    "    # Create directories for output once\n",
    "    damage_types = ['background', 'water', 'building_no_damage', 'building_minor_damage','building_major_damage','building_destroyed','vehicle','road_clear','road_blocked','tree','pool']\n",
    "    for damage_type in damage_types:\n",
    "        os.makedirs(os.path.join(save_folder, damage_type), exist_ok=True)\n",
    "\n",
    "    for file_name in tqdm(file_list):\n",
    "        image_path = os.path.join(images_path, file_name)\n",
    "        mask_path = os.path.join(masks_path, file_name.replace('.jpg', '_lab.png'))\n",
    "        image = cv2.imread(image_path)\n",
    "        image = cv2.cvtColor(image, cv2.COLOR_BGR2RGB)\n",
    "        image = cv2.resize(image, resize_shape, interpolation=cv2.INTER_LINEAR)\n",
    "\n",
    "        mask = cv2.imread(mask_path, 0)  # Read mask as grayscale\n",
    "        mask = cv2.resize(mask, resize_shape, interpolation=cv2.INTER_LINEAR)\n",
    "\n",
    "        # Save class labels\n",
    "        for i, label in enumerate(damage_types):\n",
    "            if (mask == i).any():\n",
    "                blank_image = np.zeros_like(image)\n",
    "                coords = np.argwhere(mask == i)\n",
    "                for x, y in coords:\n",
    "                    blank_image[x, y] = image[x, y]\n",
    "                Image.fromarray(blank_image).save(os.path.join(save_folder, label, file_name))\n",
    "\n",
    "def apply_preprocessing(data_path, resize_shape, save_folder):\n",
    "    process_and_save_images(data_path, resize_shape, save_folder)\n",
    "    print('Saved Classifier Processed Dataset')\n"
   ]
  },
  {
   "cell_type": "code",
   "execution_count": 3,
   "id": "f60284f7",
   "metadata": {},
   "outputs": [
    {
     "name": "stderr",
     "output_type": "stream",
     "text": [
      "100%|██████████| 3595/3595 [1:18:53<00:00,  1.32s/it]"
     ]
    },
    {
     "name": "stdout",
     "output_type": "stream",
     "text": [
      "Saved Classifier Processed Dataset\n"
     ]
    },
    {
     "name": "stderr",
     "output_type": "stream",
     "text": [
      "\n"
     ]
    }
   ],
   "source": [
    "# Build Train Dataset \n",
    "DATA_PATH = \"/home/aaimscadmin/IRP_DATA/RescueNet/train\"\n",
    "SAVE_FOLDER = \"/home/aaimscadmin/IRP_DATA/RescueNet/classifier_dataset/train\"\n",
    "\n",
    "RESIZE_SHAPE=(256,256)\n",
    "apply_preprocessing(DATA_PATH,RESIZE_SHAPE,SAVE_FOLDER)"
   ]
  },
  {
   "cell_type": "code",
   "execution_count": 4,
   "id": "23c72168",
   "metadata": {},
   "outputs": [],
   "source": [
    "def process_and_save_images(data_path, resize_shape, save_folder):\n",
    "    images_path = os.path.join(data_path, \"val-org-img\")\n",
    "    masks_path = os.path.join(data_path, \"val-label-img\")\n",
    "    \n",
    "    file_list = os.listdir(images_path)\n",
    "\n",
    "    # Create directories for output once\n",
    "    damage_types = ['background', 'water', 'building_no_damage', 'building_minor_damage','building_major_damage','building_destroyed','vehicle','road_clear','road_blocked','tree','pool']\n",
    "    for damage_type in damage_types:\n",
    "        os.makedirs(os.path.join(save_folder, damage_type), exist_ok=True)\n",
    "\n",
    "    for file_name in tqdm(file_list):\n",
    "        image_path = os.path.join(images_path, file_name)\n",
    "        mask_path = os.path.join(masks_path, file_name.replace('.jpg', '_lab.png'))\n",
    "        image = cv2.imread(image_path)\n",
    "        image = cv2.cvtColor(image, cv2.COLOR_BGR2RGB)\n",
    "        image = cv2.resize(image, resize_shape, interpolation=cv2.INTER_LINEAR)\n",
    "\n",
    "        mask = cv2.imread(mask_path, 0)  # Read mask as grayscale\n",
    "        mask = cv2.resize(mask, resize_shape, interpolation=cv2.INTER_LINEAR)\n",
    "\n",
    "        # Save class labels\n",
    "        for i, label in enumerate(damage_types):\n",
    "            if (mask == i).any():\n",
    "                blank_image = np.zeros_like(image)\n",
    "                coords = np.argwhere(mask == i)\n",
    "                for x, y in coords:\n",
    "                    blank_image[x, y] = image[x, y]\n",
    "                Image.fromarray(blank_image).save(os.path.join(save_folder, label, file_name))\n",
    "\n",
    "def apply_preprocessing(data_path, resize_shape, save_folder):\n",
    "    process_and_save_images(data_path, resize_shape, save_folder)\n",
    "    print('Saved Classifier Processed Dataset')\n"
   ]
  },
  {
   "cell_type": "code",
   "execution_count": 5,
   "id": "eae393cb",
   "metadata": {},
   "outputs": [
    {
     "name": "stderr",
     "output_type": "stream",
     "text": [
      "100%|██████████| 449/449 [09:39<00:00,  1.29s/it]"
     ]
    },
    {
     "name": "stdout",
     "output_type": "stream",
     "text": [
      "Saved Classifier Processed Dataset\n"
     ]
    },
    {
     "name": "stderr",
     "output_type": "stream",
     "text": [
      "\n"
     ]
    }
   ],
   "source": [
    "# Build Train Dataset \n",
    "DATA_PATH = \"/home/aaimscadmin/IRP_DATA/RescueNet/val\"\n",
    "SAVE_FOLDER = \"/home/aaimscadmin/IRP_DATA/RescueNet/classifier_dataset/val\"\n",
    "\n",
    "RESIZE_SHAPE=(256,256)\n",
    "apply_preprocessing(DATA_PATH,RESIZE_SHAPE,SAVE_FOLDER)"
   ]
  },
  {
   "cell_type": "code",
   "execution_count": null,
   "id": "7878cd1c",
   "metadata": {},
   "outputs": [],
   "source": []
  }
 ],
 "metadata": {
  "kernelspec": {
   "display_name": "pytorch_env",
   "language": "python",
   "name": "python3"
  },
  "language_info": {
   "codemirror_mode": {
    "name": "ipython",
    "version": 3
   },
   "file_extension": ".py",
   "mimetype": "text/x-python",
   "name": "python",
   "nbconvert_exporter": "python",
   "pygments_lexer": "ipython3",
   "version": "3.10.14"
  }
 },
 "nbformat": 4,
 "nbformat_minor": 5
}

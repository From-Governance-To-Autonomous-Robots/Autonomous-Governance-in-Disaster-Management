{
 "cells": [
  {
   "cell_type": "code",
   "execution_count": 1,
   "metadata": {},
   "outputs": [
    {
     "name": "stderr",
     "output_type": "stream",
     "text": [
      "/tmp/ipykernel_13203/1617223376.py:4: DeprecationWarning: \n",
      "Pyarrow will become a required dependency of pandas in the next major release of pandas (pandas 3.0),\n",
      "(to allow more performant data types, such as the Arrow string type, and better interoperability with other libraries)\n",
      "but was not found to be installed on your system.\n",
      "If this would cause problems for you,\n",
      "please provide us feedback at https://github.com/pandas-dev/pandas/issues/54466\n",
      "        \n",
      "  import pandas as pd\n"
     ]
    }
   ],
   "source": [
    "import wandb\n",
    "import os \n",
    "import numpy as np\n",
    "import pandas as pd\n",
    "import firebase_admin\n",
    "from firebase_admin import credentials, firestore, storage\n",
    "from tqdm import tqdm "
   ]
  },
  {
   "cell_type": "code",
   "execution_count": 2,
   "metadata": {},
   "outputs": [],
   "source": [
    "# Initialize Firebase Admin SDK\n",
    "cred = credentials.Certificate('disaster-master.json')  # Replace with your Firebase Admin SDK key\n",
    "firebase_admin.initialize_app(cred, {\n",
    "    'storageBucket': 'disaster-master-59d6f.appspot.com'  # Replace with your storage bucket URL\n",
    "})\n",
    "\n",
    "db = firestore.client()\n",
    "bucket = storage.bucket()"
   ]
  },
  {
   "cell_type": "code",
   "execution_count": 3,
   "metadata": {},
   "outputs": [
    {
     "data": {
      "text/plain": [
       "'\\nprovide a function for this \\nCheck firestore db \\n\\nCheck the users table -> check gameEnded true -> log with prefix `All` -> store all users. `CorrectlyAnswered`, `GatherAdditionalDataRequested`, `WronglyAnswered` , `score` in a list. Take the average and log to wandb\\nCheck the users table -> Check gameEnded true -> log with prefix `victim` -> check users.experience.victim true -> store all users. `CorrectlyAnswered`, `GatherAdditionalDataRequested`, `WronglyAnswered` , `score` in a list. Take the average and log to wandb\\nCheck the users table -> Check gameEnded true -> log with prefix `volunteer` -> check users.experience.volunteer true -> store all users. `CorrectlyAnswered`, `GatherAdditionalDataRequested`, `WronglyAnswered` , `score` in a list. Take the average and log to wandb\\nCheck the users table -> Check gameEnded true -> log with prefix `decision_maker` -> check users.experience.decision_maker true -> store all users. `CorrectlyAnswered`, `GatherAdditionalDataRequested`, `WronglyAnswered` , `score` in a list. Take the average and log to wandb\\n'"
      ]
     },
     "execution_count": 3,
     "metadata": {},
     "output_type": "execute_result"
    }
   ],
   "source": [
    "\"\"\"\n",
    "provide a function for this \n",
    "Check firestore db \n",
    "\n",
    "Check the users table -> check gameEnded true -> log with prefix `All` -> store all users. `CorrectlyAnswered`, `GatherAdditionalDataRequested`, `WronglyAnswered` , `score` in a list. Take the average and log to wandb\n",
    "Check the users table -> Check gameEnded true -> log with prefix `victim` -> check users.experience.victim true -> store all users. `CorrectlyAnswered`, `GatherAdditionalDataRequested`, `WronglyAnswered` , `score` in a list. Take the average and log to wandb\n",
    "Check the users table -> Check gameEnded true -> log with prefix `volunteer` -> check users.experience.volunteer true -> store all users. `CorrectlyAnswered`, `GatherAdditionalDataRequested`, `WronglyAnswered` , `score` in a list. Take the average and log to wandb\n",
    "Check the users table -> Check gameEnded true -> log with prefix `decision_maker` -> check users.experience.decision_maker true -> store all users. `CorrectlyAnswered`, `GatherAdditionalDataRequested`, `WronglyAnswered` , `score` in a list. Take the average and log to wandb\n",
    "\"\"\"\n",
    "\n"
   ]
  },
  {
   "cell_type": "code",
   "execution_count": 4,
   "metadata": {},
   "outputs": [
    {
     "name": "stderr",
     "output_type": "stream",
     "text": [
      "Failed to detect the name of this notebook, you can set it manually with the WANDB_NOTEBOOK_NAME environment variable to enable code saving.\n",
      "\u001b[34m\u001b[1mwandb\u001b[0m: Currently logged in as: \u001b[33mjuliangeralddcruz\u001b[0m. Use \u001b[1m`wandb login --relogin`\u001b[0m to force relogin\n"
     ]
    },
    {
     "data": {
      "text/html": [
       "wandb version 0.17.7 is available!  To upgrade, please run:\n",
       " $ pip install wandb --upgrade"
      ],
      "text/plain": [
       "<IPython.core.display.HTML object>"
      ]
     },
     "metadata": {},
     "output_type": "display_data"
    },
    {
     "data": {
      "text/html": [
       "Tracking run with wandb version 0.16.2"
      ],
      "text/plain": [
       "<IPython.core.display.HTML object>"
      ]
     },
     "metadata": {},
     "output_type": "display_data"
    },
    {
     "data": {
      "text/html": [
       "Run data is saved locally in <code>/home/julian/git-repo/juliangdz/GovernanceIRP/Autonomous-Governance-in-Disaster-Management/quiz_application/scripts/wandb/run-20240817_110803-lp8tvapq</code>"
      ],
      "text/plain": [
       "<IPython.core.display.HTML object>"
      ]
     },
     "metadata": {},
     "output_type": "display_data"
    },
    {
     "data": {
      "text/html": [
       "Syncing run <strong><a href='https://wandb.ai/juliangeralddcruz/human_study/runs/lp8tvapq' target=\"_blank\">warm-fog-12</a></strong> to <a href='https://wandb.ai/juliangeralddcruz/human_study' target=\"_blank\">Weights & Biases</a> (<a href='https://wandb.me/run' target=\"_blank\">docs</a>)<br/>"
      ],
      "text/plain": [
       "<IPython.core.display.HTML object>"
      ]
     },
     "metadata": {},
     "output_type": "display_data"
    },
    {
     "data": {
      "text/html": [
       " View project at <a href='https://wandb.ai/juliangeralddcruz/human_study' target=\"_blank\">https://wandb.ai/juliangeralddcruz/human_study</a>"
      ],
      "text/plain": [
       "<IPython.core.display.HTML object>"
      ]
     },
     "metadata": {},
     "output_type": "display_data"
    },
    {
     "data": {
      "text/html": [
       " View run at <a href='https://wandb.ai/juliangeralddcruz/human_study/runs/lp8tvapq' target=\"_blank\">https://wandb.ai/juliangeralddcruz/human_study/runs/lp8tvapq</a>"
      ],
      "text/plain": [
       "<IPython.core.display.HTML object>"
      ]
     },
     "metadata": {},
     "output_type": "display_data"
    }
   ],
   "source": [
    "# Initialize WandB\n",
    "wandb.init(project=\"human_study\")\n",
    "\n",
    "def log_to_wandb(prefix, data):\n",
    "    def calculate_mean_std(values):\n",
    "        return np.mean(values), np.std(values)\n",
    "\n",
    "    # Prepare data arrays\n",
    "    correctly_answered = [d['CorrectlyAnswered'] for d in data]\n",
    "    gather_additional_data = [d['GatherAdditionalDataRequested'] for d in data]\n",
    "    wrongly_answered = [d['WronglyAnswered'] for d in data]\n",
    "    scores = [d['score'] for d in data]\n",
    "    trees_done = [d['trees'] for d in data]\n",
    "\n",
    "    # Calculate mean and std for each metric\n",
    "    mean_correctly_answered, std_correctly_answered = calculate_mean_std(correctly_answered)\n",
    "    mean_gather_additional_data, std_gather_additional_data = calculate_mean_std(gather_additional_data)\n",
    "    mean_wrongly_answered, std_wrongly_answered = calculate_mean_std(wrongly_answered)\n",
    "    mean_score, std_score = calculate_mean_std(scores)\n",
    "    total_trees_done = sum(trees_done)\n",
    "    mean_trees_done, std_trees_done = calculate_mean_std(trees_done)\n",
    "\n",
    "    # Log mean and std to WandB\n",
    "    wandb.log({f\"{prefix}/CorrectlyAnswered_mean\": mean_correctly_answered, f\"{prefix}/CorrectlyAnswered_std\": std_correctly_answered})\n",
    "    wandb.log({f\"{prefix}/GatherAdditionalDataRequested_mean\": mean_gather_additional_data, f\"{prefix}/GatherAdditionalDataRequested_std\": std_gather_additional_data})\n",
    "    wandb.log({f\"{prefix}/WronglyAnswered_mean\": mean_wrongly_answered, f\"{prefix}/WronglyAnswered_std\": std_wrongly_answered})\n",
    "    wandb.log({f\"{prefix}/score_mean\": mean_score, f\"{prefix}/score_std\": std_score})\n",
    "    wandb.log({f\"{prefix}/total_trees_done\": total_trees_done})\n",
    "    wandb.log({f\"{prefix}/avg_trees_done_mean\": mean_trees_done, f\"{prefix}/avg_trees_done_std\": std_trees_done})\n",
    "\n",
    "    # Log individual data points\n",
    "    step = 0\n",
    "    for i, d in enumerate(data):\n",
    "        wandb.log({f\"{prefix}/CorrectlyAnswered\": d[\"CorrectlyAnswered\"], \"step\": step})\n",
    "        wandb.log({f\"{prefix}/GatherAdditionalDataRequested\": d[\"GatherAdditionalDataRequested\"], \"step\": step})\n",
    "        wandb.log({f\"{prefix}/WronglyAnswered\": d[\"WronglyAnswered\"], \"step\": step})\n",
    "        wandb.log({f\"{prefix}/score\": d[\"score\"], \"step\": step})\n",
    "        wandb.log({f\"{prefix}/trees_done\": d[\"trees\"], \"step\": step})\n",
    "        step += 1\n",
    "\n",
    "def normalize_nationality(nationality):\n",
    "    nationality = nationality.strip().lower()\n",
    "    \n",
    "    nationality_mapping = {\n",
    "        \"india\": \"indian\",\n",
    "        \"indian\": \"indian\",\n",
    "        \"indian \": \"indian\",\n",
    "        \"indian  \": \"indian\",\n",
    "        \"indian\": \"indian\",\n",
    "        \"koshy george\": \"indian\",\n",
    "        \"indian\": \"indian\",\n",
    "        \"us\": \"american\",\n",
    "        \"usa\": \"american\",\n",
    "        \"u.s.\": \"american\",\n",
    "        \"u.s.a\": \"american\",\n",
    "        \"british\": \"british\",\n",
    "        \"british \": \"british\",\n",
    "    }\n",
    "\n",
    "    return nationality_mapping.get(nationality, nationality)  # Default to original if not in mapping\n",
    "\n",
    "def process_users_data():\n",
    "    users_ref = db.collection('users')\n",
    "    users = users_ref.where('gameEnded', '==', True).stream()\n",
    "\n",
    "    all_data = []\n",
    "    victim_data = []\n",
    "    volunteer_data = []\n",
    "    decision_maker_data = []\n",
    "\n",
    "    nationalities = set()  # Initialize an empty set to store unique nationalities\n",
    "    nationality_stats = {}  # Dictionary to store counts for each nationality\n",
    "\n",
    "    for user in users:\n",
    "        user_data = user.to_dict()\n",
    "        \n",
    "        nationality = user_data.get(\"nationality\")\n",
    "        if nationality:\n",
    "            normalized_nationality = normalize_nationality(nationality)\n",
    "            nationalities.add(normalized_nationality)\n",
    "            if normalized_nationality not in nationality_stats:\n",
    "                nationality_stats[normalized_nationality] = {\n",
    "                    \"victim\": 0,\n",
    "                    \"volunteer\": 0,\n",
    "                    \"decision_maker\": 0\n",
    "                }\n",
    "\n",
    "        user_stats = {\n",
    "            \"CorrectlyAnswered\": user_data.get(\"CorrectlyAnswered\", 0),\n",
    "            \"GatherAdditionalDataRequested\": user_data.get(\"GatherAdditionalDataRequested\", 0),\n",
    "            \"WronglyAnswered\": user_data.get(\"WronglyAnswered\", 0),\n",
    "            \"score\": user_data.get(\"score\", 0),\n",
    "            \"trees\": user_data.get(\"current_tree_level\", 0)\n",
    "        }\n",
    "        all_data.append(user_stats)\n",
    "\n",
    "        if user_data.get(\"experience\", {}).get(\"victim\"):\n",
    "            victim_data.append(user_stats)\n",
    "            if nationality:\n",
    "                nationality_stats[normalized_nationality][\"victim\"] += 1\n",
    "        \n",
    "        if user_data.get(\"experience\", {}).get(\"volunteer\"):\n",
    "            volunteer_data.append(user_stats)\n",
    "            if nationality:\n",
    "                nationality_stats[normalized_nationality][\"volunteer\"] += 1\n",
    "        \n",
    "        if user_data.get(\"experience\", {}).get(\"decision_maker\"):\n",
    "            decision_maker_data.append(user_stats)\n",
    "            if nationality:\n",
    "                nationality_stats[normalized_nationality][\"decision_maker\"] += 1\n",
    "\n",
    "    # Print the unique set of nationalities\n",
    "    print(\"Unique Nationalities:\", nationalities)\n",
    "\n",
    "    # Log nationality stats to WandB\n",
    "    for nationality, counts in nationality_stats.items():\n",
    "        wandb.log({\n",
    "            \"nationality_counts/victims\": {nationality: counts[\"victim\"]},\n",
    "            \"nationality_counts/volunteers\": {nationality: counts[\"volunteer\"]},\n",
    "            \"nationality_counts/decision_makers\": {nationality: counts[\"decision_maker\"]}\n",
    "        })\n",
    "\n",
    "    if all_data:\n",
    "        log_to_wandb(\"All\", all_data)\n",
    "    \n",
    "    if victim_data:\n",
    "        wandb.log({\"victim/number_of_victims\": len(victim_data)})\n",
    "        log_to_wandb(\"victim\", victim_data)\n",
    "    \n",
    "    if volunteer_data:\n",
    "        wandb.log({\"volunteer/number_of_volunteer\": len(volunteer_data)})\n",
    "        log_to_wandb(\"volunteer\", volunteer_data)\n",
    "    \n",
    "    if decision_maker_data:\n",
    "        wandb.log({\"decision_maker/number_of_decision_maker\": len(decision_maker_data)})\n",
    "        log_to_wandb(\"decision_maker\", decision_maker_data)\n"
   ]
  },
  {
   "cell_type": "code",
   "execution_count": 5,
   "metadata": {},
   "outputs": [
    {
     "name": "stderr",
     "output_type": "stream",
     "text": [
      "/home/julian/miniconda3/envs/pytorch_env/lib/python3.10/site-packages/google/cloud/firestore_v1/base_collection.py:302: UserWarning: Detected filter using positional arguments. Prefer using the 'filter' keyword argument instead.\n",
      "  return query.where(field_path, op_string, value)\n"
     ]
    },
    {
     "name": "stdout",
     "output_type": "stream",
     "text": [
      "Unique Nationalities: {'taiwan', 'italian', 'indian', 'american', 'british', 'testing', 'japan', 'canadian'}\n"
     ]
    }
   ],
   "source": [
    "process_users_data()"
   ]
  },
  {
   "cell_type": "code",
   "execution_count": 6,
   "metadata": {},
   "outputs": [
    {
     "name": "stderr",
     "output_type": "stream",
     "text": [
      "wandb: WARNING Source type is set to 'repo' but some required information is missing from the environment. A job will not be created from this run. See https://docs.wandb.ai/guides/launch/create-job\n"
     ]
    },
    {
     "data": {
      "text/html": [
       "<style>\n",
       "    table.wandb td:nth-child(1) { padding: 0 10px; text-align: left ; width: auto;} td:nth-child(2) {text-align: left ; width: 100%}\n",
       "    .wandb-row { display: flex; flex-direction: row; flex-wrap: wrap; justify-content: flex-start; width: 100% }\n",
       "    .wandb-col { display: flex; flex-direction: column; flex-basis: 100%; flex: 1; padding: 10px; }\n",
       "    </style>\n",
       "<div class=\"wandb-row\"><div class=\"wandb-col\"><h3>Run history:</h3><br/><table class=\"wandb\"><tr><td>All/CorrectlyAnswered</td><td>▆▇▅▆▄▇▄▇▅▆▇▆█▇▇▅▅▆▆▅▅▄▆▅▂▃▁▄▄▆▃▇▅▅▆▃▆▅▅▄</td></tr><tr><td>All/CorrectlyAnswered_mean</td><td>▁</td></tr><tr><td>All/CorrectlyAnswered_std</td><td>▁</td></tr><tr><td>All/GatherAdditionalDataRequested</td><td>▆▁▁▅▃▄▁▁▁▇▆▁▁▂█▅▁▁▁▅▄▄▆▁▄▃▁▂▂▂▅▄▂▂▄▁▂▄▁▃</td></tr><tr><td>All/GatherAdditionalDataRequested_mean</td><td>▁</td></tr><tr><td>All/GatherAdditionalDataRequested_std</td><td>▁</td></tr><tr><td>All/WronglyAnswered</td><td>▃▂▄▃▃▂▅▂▄▃▂▃▁▂▂▄▄▃▃▄▄▅▃▄▅▅█▅▅▃▄▂▄▄▃▆▃▄▃▄</td></tr><tr><td>All/WronglyAnswered_mean</td><td>▁</td></tr><tr><td>All/WronglyAnswered_std</td><td>▁</td></tr><tr><td>All/avg_trees_done_mean</td><td>▁</td></tr><tr><td>All/avg_trees_done_std</td><td>▁</td></tr><tr><td>All/score</td><td>▆▇▅▆▅▇▄▇▅▆▆▆█▇▆▅▅▆▆▅▅▄▆▅▃▄▁▄▄▆▅▇▅▅▆▃▆▅▆▅</td></tr><tr><td>All/score_mean</td><td>▁</td></tr><tr><td>All/score_std</td><td>▁</td></tr><tr><td>All/total_trees_done</td><td>▁</td></tr><tr><td>All/trees_done</td><td>▂▁▁▂▂▂▁▂▂▁▂▂▁▂▁▁█▂▃▂▃▁▂▂▁▃▁▂▁▁▁▁▂▁▂▂▄▂▂▅</td></tr><tr><td>decision_maker/CorrectlyAnswered</td><td>▅▆▂▆▆▆█▃▄▃▂▃▂▁</td></tr><tr><td>decision_maker/CorrectlyAnswered_mean</td><td>▁</td></tr><tr><td>decision_maker/CorrectlyAnswered_std</td><td>▁</td></tr><tr><td>decision_maker/GatherAdditionalDataRequested</td><td>█▅▁▁▁█▃▇▇▅▅▃▂▁</td></tr><tr><td>decision_maker/GatherAdditionalDataRequested_mean</td><td>▁</td></tr><tr><td>decision_maker/GatherAdditionalDataRequested_std</td><td>▁</td></tr><tr><td>decision_maker/WronglyAnswered</td><td>▄▃▇▃▃▃▁▆▅▆▄▅▇█</td></tr><tr><td>decision_maker/WronglyAnswered_mean</td><td>▁</td></tr><tr><td>decision_maker/WronglyAnswered_std</td><td>▁</td></tr><tr><td>decision_maker/avg_trees_done_mean</td><td>▁</td></tr><tr><td>decision_maker/avg_trees_done_std</td><td>▁</td></tr><tr><td>decision_maker/number_of_decision_maker</td><td>▁</td></tr><tr><td>decision_maker/score</td><td>▅▆▃▇▆▆█▄▄▃▄▃▂▁</td></tr><tr><td>decision_maker/score_mean</td><td>▁</td></tr><tr><td>decision_maker/score_std</td><td>▁</td></tr><tr><td>decision_maker/total_trees_done</td><td>▁</td></tr><tr><td>decision_maker/trees_done</td><td>▂▂▁▁▄▂▁▁▂█▃▃▁▅</td></tr><tr><td>step</td><td>▁▁▂▂▂▃▃▃▄▄▄▅▅▅▆▆▆▇▇▇██▁▁▂▂▃▁▁▂▂▂▃▃▃▄▁▁▂▂</td></tr><tr><td>victim/CorrectlyAnswered</td><td>▆▃▄▄▄▄▅▅▄▁▇▄▆▅█▄▃▄▃</td></tr><tr><td>victim/CorrectlyAnswered_mean</td><td>▁</td></tr><tr><td>victim/CorrectlyAnswered_std</td><td>▁</td></tr><tr><td>victim/GatherAdditionalDataRequested</td><td>▆▃▁▅▆▁▁▁█▆▄▂▃▁▁▄▆▁▃</td></tr><tr><td>victim/GatherAdditionalDataRequested_mean</td><td>▁</td></tr><tr><td>victim/GatherAdditionalDataRequested_std</td><td>▁</td></tr><tr><td>victim/WronglyAnswered</td><td>▄▆▇▇██▅▆█▇▄█▂▅▁▇▆▆█</td></tr><tr><td>victim/WronglyAnswered_mean</td><td>▁</td></tr><tr><td>victim/WronglyAnswered_std</td><td>▁</td></tr><tr><td>victim/avg_trees_done_mean</td><td>▁</td></tr><tr><td>victim/avg_trees_done_std</td><td>▁</td></tr><tr><td>victim/number_of_victims</td><td>▁</td></tr><tr><td>victim/score</td><td>▄▂▂▂▂▂▄▃▂▁▅▁▆▄█▂▃▃▂</td></tr><tr><td>victim/score_mean</td><td>▁</td></tr><tr><td>victim/score_std</td><td>▁</td></tr><tr><td>victim/total_trees_done</td><td>▁</td></tr><tr><td>victim/trees_done</td><td>▂▂▂▁▁█▁▃▁▁▁▂▂▂▁▂▂▂▅</td></tr><tr><td>volunteer/CorrectlyAnswered</td><td>▆▃▆█▇▇███▄▅▂▇▅▃▄▇▁▆▅█▄▄▇▅▅▅▇▇▄</td></tr><tr><td>volunteer/CorrectlyAnswered_mean</td><td>▁</td></tr><tr><td>volunteer/CorrectlyAnswered_std</td><td>▁</td></tr><tr><td>volunteer/GatherAdditionalDataRequested</td><td>▁▃▁▁▅▆▄▂▆▂▄▃▁▁▂▃▅▂▁▂█▁▂▂▁▁▂▁▂▂</td></tr><tr><td>volunteer/GatherAdditionalDataRequested_mean</td><td>▁</td></tr><tr><td>volunteer/GatherAdditionalDataRequested_std</td><td>▁</td></tr><tr><td>volunteer/WronglyAnswered</td><td>▄▄▅▂▄▃▂▂▂▄▅▆▄▂██▄▇▅▅▄▇▇▃▁▅▅▃▃▇</td></tr><tr><td>volunteer/WronglyAnswered_mean</td><td>▁</td></tr><tr><td>volunteer/WronglyAnswered_std</td><td>▁</td></tr><tr><td>volunteer/avg_trees_done_mean</td><td>▁</td></tr><tr><td>volunteer/avg_trees_done_std</td><td>▁</td></tr><tr><td>volunteer/number_of_volunteer</td><td>▁</td></tr><tr><td>volunteer/score</td><td>▅▄▅█▆▆▇█▆▅▅▃▇▇▂▃▆▁▅▄▇▃▃▇█▅▅▇▇▃</td></tr><tr><td>volunteer/score_mean</td><td>▁</td></tr><tr><td>volunteer/score_std</td><td>▁</td></tr><tr><td>volunteer/total_trees_done</td><td>▁</td></tr><tr><td>volunteer/trees_done</td><td>▂▄▆▂▁▁▂▂▂▂▁▂▃▁▂▁▂▁▂▃▁▃▂▂▃▂▁▄█▂</td></tr></table><br/></div><div class=\"wandb-col\"><h3>Run summary:</h3><br/><table class=\"wandb\"><tr><td>All/CorrectlyAnswered</td><td>0.5625</td></tr><tr><td>All/CorrectlyAnswered_mean</td><td>0.63476</td></tr><tr><td>All/CorrectlyAnswered_std</td><td>0.15523</td></tr><tr><td>All/GatherAdditionalDataRequested</td><td>0.08125</td></tr><tr><td>All/GatherAdditionalDataRequested_mean</td><td>0.09981</td></tr><tr><td>All/GatherAdditionalDataRequested_std</td><td>0.1085</td></tr><tr><td>All/WronglyAnswered</td><td>0.3875</td></tr><tr><td>All/WronglyAnswered_mean</td><td>0.32715</td></tr><tr><td>All/WronglyAnswered_std</td><td>0.12686</td></tr><tr><td>All/avg_trees_done_mean</td><td>6.98649</td></tr><tr><td>All/avg_trees_done_std</td><td>7.20265</td></tr><tr><td>All/score</td><td>-1.36667</td></tr><tr><td>All/score_mean</td><td>-1.05125</td></tr><tr><td>All/score_std</td><td>0.75515</td></tr><tr><td>All/total_trees_done</td><td>517</td></tr><tr><td>All/trees_done</td><td>32</td></tr><tr><td>decision_maker/CorrectlyAnswered</td><td>0.45455</td></tr><tr><td>decision_maker/CorrectlyAnswered_mean</td><td>0.6582</td></tr><tr><td>decision_maker/CorrectlyAnswered_std</td><td>0.14095</td></tr><tr><td>decision_maker/GatherAdditionalDataRequested</td><td>0</td></tr><tr><td>decision_maker/GatherAdditionalDataRequested_mean</td><td>0.10456</td></tr><tr><td>decision_maker/GatherAdditionalDataRequested_std</td><td>0.08753</td></tr><tr><td>decision_maker/WronglyAnswered</td><td>0.54545</td></tr><tr><td>decision_maker/WronglyAnswered_mean</td><td>0.32343</td></tr><tr><td>decision_maker/WronglyAnswered_std</td><td>0.13188</td></tr><tr><td>decision_maker/avg_trees_done_mean</td><td>6.71429</td></tr><tr><td>decision_maker/avg_trees_done_std</td><td>3.95382</td></tr><tr><td>decision_maker/number_of_decision_maker</td><td>14</td></tr><tr><td>decision_maker/score</td><td>-2.27273</td></tr><tr><td>decision_maker/score_mean</td><td>-1.00266</td></tr><tr><td>decision_maker/score_std</td><td>0.71292</td></tr><tr><td>decision_maker/total_trees_done</td><td>94</td></tr><tr><td>decision_maker/trees_done</td><td>11</td></tr><tr><td>step</td><td>13</td></tr><tr><td>victim/CorrectlyAnswered</td><td>0.5625</td></tr><tr><td>victim/CorrectlyAnswered_mean</td><td>0.65804</td></tr><tr><td>victim/CorrectlyAnswered_std</td><td>0.11949</td></tr><tr><td>victim/GatherAdditionalDataRequested</td><td>0.08125</td></tr><tr><td>victim/GatherAdditionalDataRequested_mean</td><td>0.09671</td></tr><tr><td>victim/GatherAdditionalDataRequested_std</td><td>0.09114</td></tr><tr><td>victim/WronglyAnswered</td><td>0.3875</td></tr><tr><td>victim/WronglyAnswered_mean</td><td>0.30521</td></tr><tr><td>victim/WronglyAnswered_std</td><td>0.08955</td></tr><tr><td>victim/avg_trees_done_mean</td><td>10.47368</td></tr><tr><td>victim/avg_trees_done_std</td><td>11.55931</td></tr><tr><td>victim/number_of_victims</td><td>19</td></tr><tr><td>victim/score</td><td>-1.36667</td></tr><tr><td>victim/score_mean</td><td>-0.88835</td></tr><tr><td>victim/score_std</td><td>0.52723</td></tr><tr><td>victim/total_trees_done</td><td>199</td></tr><tr><td>victim/trees_done</td><td>32</td></tr><tr><td>volunteer/CorrectlyAnswered</td><td>0.5</td></tr><tr><td>volunteer/CorrectlyAnswered_mean</td><td>0.61436</td></tr><tr><td>volunteer/CorrectlyAnswered_std</td><td>0.1402</td></tr><tr><td>volunteer/GatherAdditionalDataRequested</td><td>0.05</td></tr><tr><td>volunteer/GatherAdditionalDataRequested_mean</td><td>0.10924</td></tr><tr><td>volunteer/GatherAdditionalDataRequested_std</td><td>0.12591</td></tr><tr><td>volunteer/WronglyAnswered</td><td>0.5</td></tr><tr><td>volunteer/WronglyAnswered_mean</td><td>0.34018</td></tr><tr><td>volunteer/WronglyAnswered_std</td><td>0.11</td></tr><tr><td>volunteer/avg_trees_done_mean</td><td>5.83333</td></tr><tr><td>volunteer/avg_trees_done_std</td><td>4.2746</td></tr><tr><td>volunteer/number_of_volunteer</td><td>30</td></tr><tr><td>volunteer/score</td><td>-1.95238</td></tr><tr><td>volunteer/score_mean</td><td>-1.14294</td></tr><tr><td>volunteer/score_std</td><td>0.63529</td></tr><tr><td>volunteer/total_trees_done</td><td>175</td></tr><tr><td>volunteer/trees_done</td><td>4</td></tr></table><br/></div></div>"
      ],
      "text/plain": [
       "<IPython.core.display.HTML object>"
      ]
     },
     "metadata": {},
     "output_type": "display_data"
    },
    {
     "data": {
      "text/html": [
       " View run <strong style=\"color:#cdcd00\">warm-fog-12</strong> at: <a href='https://wandb.ai/juliangeralddcruz/human_study/runs/lp8tvapq' target=\"_blank\">https://wandb.ai/juliangeralddcruz/human_study/runs/lp8tvapq</a><br/>Synced 6 W&B file(s), 0 media file(s), 0 artifact file(s) and 0 other file(s)"
      ],
      "text/plain": [
       "<IPython.core.display.HTML object>"
      ]
     },
     "metadata": {},
     "output_type": "display_data"
    },
    {
     "data": {
      "text/html": [
       "Find logs at: <code>./wandb/run-20240817_110803-lp8tvapq/logs</code>"
      ],
      "text/plain": [
       "<IPython.core.display.HTML object>"
      ]
     },
     "metadata": {},
     "output_type": "display_data"
    }
   ],
   "source": [
    "wandb.finish()"
   ]
  },
  {
   "cell_type": "code",
   "execution_count": null,
   "metadata": {},
   "outputs": [],
   "source": []
  }
 ],
 "metadata": {
  "kernelspec": {
   "display_name": "pytorch_env",
   "language": "python",
   "name": "python3"
  },
  "language_info": {
   "codemirror_mode": {
    "name": "ipython",
    "version": 3
   },
   "file_extension": ".py",
   "mimetype": "text/x-python",
   "name": "python",
   "nbconvert_exporter": "python",
   "pygments_lexer": "ipython3",
   "version": "3.10.13"
  }
 },
 "nbformat": 4,
 "nbformat_minor": 2
}
